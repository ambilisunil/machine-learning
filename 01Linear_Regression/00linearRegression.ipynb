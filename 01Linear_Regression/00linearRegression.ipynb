{
  "nbformat": 4,
  "nbformat_minor": 0,
  "metadata": {
    "colab": {
      "provenance": []
    },
    "kernelspec": {
      "name": "python3",
      "display_name": "Python 3"
    },
    "language_info": {
      "name": "python"
    }
  },
  "cells": [
    {
      "cell_type": "markdown",
      "source": [
        "# Linear Regression\n",
        "Linear Regression is a supervised learning algorithm used for predicting continuous values based on the relationship between input features. It assumes a linear relationship between the independent variable(s) (X) and the dependent variable (Y).\n",
        "\n",
        "\n"
      ],
      "metadata": {
        "id": "ga3A198UFq74"
      }
    },
    {
      "cell_type": "markdown",
      "source": [
        "**Types of Linear Regression**\n",
        "\n",
        "There are two main types of linear regression:\n",
        "\n",
        "**Simple Linear Regression** – One independent variable (X) and one dependent variable (Y).\n",
        "\n",
        "**Multiple Linear Regression** – More than one independent variable (X1, X2, X3...) predicting a single dependent variable (Y)."
      ],
      "metadata": {
        "id": "t5reYheWGCcS"
      }
    },
    {
      "cell_type": "markdown",
      "source": [
        "Equation of Linear Regression\n",
        "# The mathematical equation of a linear regression model is:\n",
        "\n",
        "![image.png](data:image/png;base64,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)\n",
        "\n",
        "\n",
        "\n",
        "\n",
        "for multiple varriaables:   ![image.png](data:image/png;base64,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)\n",
        "\n",
        "\n",
        "Where:\n",
        "\n",
        "Y = Predicted output (dependent variable)\n",
        "X = Input feature(s) (independent variable(s))\n",
        "m (or b1, b2, etc.) = Coefficients (slopes)\n",
        "c (or b0) = Intercept (constant)\n",
        "n = Number of features\n"
      ],
      "metadata": {
        "id": "fv8Xd0wyGE0y"
      }
    },
    {
      "cell_type": "markdown",
      "source": [
        "# Optimization using Gradient Descent\n",
        "Gradient Descent is an optimization algorithm that updates model coefficients to minimize the cost function. It updates the weights using:\n",
        "\n",
        "![image.png](data:image/png;base64,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)\n",
        "\n",
        "Where:\n",
        "\n",
        "α (alpha) = Learning rate\n",
        "J = Cost function\n"
      ],
      "metadata": {
        "id": "QuE3CYnPGt6z"
      }
    },
    {
      "cell_type": "markdown",
      "source": [
        "# **Implementation**"
      ],
      "metadata": {
        "id": "SvcIDh1aG9rn"
      }
    },
    {
      "cell_type": "markdown",
      "source": [
        "NumPy (np) – Used to create and manipulate numerical arrays.\n",
        "\n",
        "Matplotlib (plt) – Used to visualize the data and regression line.\n",
        "\n",
        "Scikit-learn (LinearRegression) – Provides an easy-to-use Linear Regression model."
      ],
      "metadata": {
        "id": "iDypfGE7Cndb"
      }
    },
    {
      "cell_type": "code",
      "execution_count": null,
      "metadata": {
        "id": "Joass_ZFCd9W"
      },
      "outputs": [],
      "source": [
        "import numpy as np\n",
        "import matplotlib.pyplot as plt\n",
        "from sklearn.linear_model import LinearRegression"
      ]
    },
    {
      "cell_type": "code",
      "source": [
        "X = np.array([1, 2, 3, 4, 5]).reshape(-1, 1)  # Independent variable (features)\n",
        "Y = np.array([2, 4, 5, 4, 5])  # Dependent variable (target)"
      ],
      "metadata": {
        "id": "tlcsd4ZECxJT"
      },
      "execution_count": null,
      "outputs": []
    },
    {
      "cell_type": "markdown",
      "source": [
        "X represents the independent variable (features). It’s reshaped into a column vector (reshape(-1, 1)) because scikit-learn requires a 2D array for input features.\n",
        "\n",
        "Y represents the dependent variable (target values)."
      ],
      "metadata": {
        "id": "ZXqHNPUjDAK5"
      }
    },
    {
      "cell_type": "code",
      "source": [
        "X"
      ],
      "metadata": {
        "colab": {
          "base_uri": "https://localhost:8080/"
        },
        "id": "epR3gtXuCz23",
        "outputId": "eeb1f97d-45ea-4739-8fc4-23b6a3dce04c"
      },
      "execution_count": null,
      "outputs": [
        {
          "output_type": "execute_result",
          "data": {
            "text/plain": [
              "array([[1],\n",
              "       [2],\n",
              "       [3],\n",
              "       [4],\n",
              "       [5]])"
            ]
          },
          "metadata": {},
          "execution_count": 6
        }
      ]
    },
    {
      "cell_type": "code",
      "source": [
        "Y"
      ],
      "metadata": {
        "colab": {
          "base_uri": "https://localhost:8080/"
        },
        "id": "0XA1mtwsC5yl",
        "outputId": "4872f15d-1dbb-4d76-cab6-61c2c9809373"
      },
      "execution_count": null,
      "outputs": [
        {
          "output_type": "execute_result",
          "data": {
            "text/plain": [
              "array([2, 4, 5, 4, 5])"
            ]
          },
          "metadata": {},
          "execution_count": 7
        }
      ]
    },
    {
      "cell_type": "markdown",
      "source": [
        "# Train the model"
      ],
      "metadata": {
        "id": "9Aq-9uTbDSWx"
      }
    },
    {
      "cell_type": "markdown",
      "source": [
        "model.fit(X, Y): Finds the best-fit line by calculating the slope and intercept using the Least Squares Method."
      ],
      "metadata": {
        "id": "3VIKAa8qDcVm"
      }
    },
    {
      "cell_type": "code",
      "source": [
        "model = LinearRegression()  # Initialize the model\n",
        "model.fit(X, Y)  # Train the model on data (X, Y)\n"
      ],
      "metadata": {
        "colab": {
          "base_uri": "https://localhost:8080/",
          "height": 57
        },
        "id": "EmRQX8xxDQn9",
        "outputId": "a902b718-eea1-43d0-8d38-c3d556f29e7d"
      },
      "execution_count": null,
      "outputs": [
        {
          "output_type": "execute_result",
          "data": {
            "text/plain": [
              "LinearRegression()"
            ],
            "text/html": [
              "<style>#sk-container-id-2 {\n",
              "  /* Definition of color scheme common for light and dark mode */\n",
              "  --sklearn-color-text: #000;\n",
              "  --sklearn-color-text-muted: #666;\n",
              "  --sklearn-color-line: gray;\n",
              "  /* Definition of color scheme for unfitted estimators */\n",
              "  --sklearn-color-unfitted-level-0: #fff5e6;\n",
              "  --sklearn-color-unfitted-level-1: #f6e4d2;\n",
              "  --sklearn-color-unfitted-level-2: #ffe0b3;\n",
              "  --sklearn-color-unfitted-level-3: chocolate;\n",
              "  /* Definition of color scheme for fitted estimators */\n",
              "  --sklearn-color-fitted-level-0: #f0f8ff;\n",
              "  --sklearn-color-fitted-level-1: #d4ebff;\n",
              "  --sklearn-color-fitted-level-2: #b3dbfd;\n",
              "  --sklearn-color-fitted-level-3: cornflowerblue;\n",
              "\n",
              "  /* Specific color for light theme */\n",
              "  --sklearn-color-text-on-default-background: var(--sg-text-color, var(--theme-code-foreground, var(--jp-content-font-color1, black)));\n",
              "  --sklearn-color-background: var(--sg-background-color, var(--theme-background, var(--jp-layout-color0, white)));\n",
              "  --sklearn-color-border-box: var(--sg-text-color, var(--theme-code-foreground, var(--jp-content-font-color1, black)));\n",
              "  --sklearn-color-icon: #696969;\n",
              "\n",
              "  @media (prefers-color-scheme: dark) {\n",
              "    /* Redefinition of color scheme for dark theme */\n",
              "    --sklearn-color-text-on-default-background: var(--sg-text-color, var(--theme-code-foreground, var(--jp-content-font-color1, white)));\n",
              "    --sklearn-color-background: var(--sg-background-color, var(--theme-background, var(--jp-layout-color0, #111)));\n",
              "    --sklearn-color-border-box: var(--sg-text-color, var(--theme-code-foreground, var(--jp-content-font-color1, white)));\n",
              "    --sklearn-color-icon: #878787;\n",
              "  }\n",
              "}\n",
              "\n",
              "#sk-container-id-2 {\n",
              "  color: var(--sklearn-color-text);\n",
              "}\n",
              "\n",
              "#sk-container-id-2 pre {\n",
              "  padding: 0;\n",
              "}\n",
              "\n",
              "#sk-container-id-2 input.sk-hidden--visually {\n",
              "  border: 0;\n",
              "  clip: rect(1px 1px 1px 1px);\n",
              "  clip: rect(1px, 1px, 1px, 1px);\n",
              "  height: 1px;\n",
              "  margin: -1px;\n",
              "  overflow: hidden;\n",
              "  padding: 0;\n",
              "  position: absolute;\n",
              "  width: 1px;\n",
              "}\n",
              "\n",
              "#sk-container-id-2 div.sk-dashed-wrapped {\n",
              "  border: 1px dashed var(--sklearn-color-line);\n",
              "  margin: 0 0.4em 0.5em 0.4em;\n",
              "  box-sizing: border-box;\n",
              "  padding-bottom: 0.4em;\n",
              "  background-color: var(--sklearn-color-background);\n",
              "}\n",
              "\n",
              "#sk-container-id-2 div.sk-container {\n",
              "  /* jupyter's `normalize.less` sets `[hidden] { display: none; }`\n",
              "     but bootstrap.min.css set `[hidden] { display: none !important; }`\n",
              "     so we also need the `!important` here to be able to override the\n",
              "     default hidden behavior on the sphinx rendered scikit-learn.org.\n",
              "     See: https://github.com/scikit-learn/scikit-learn/issues/21755 */\n",
              "  display: inline-block !important;\n",
              "  position: relative;\n",
              "}\n",
              "\n",
              "#sk-container-id-2 div.sk-text-repr-fallback {\n",
              "  display: none;\n",
              "}\n",
              "\n",
              "div.sk-parallel-item,\n",
              "div.sk-serial,\n",
              "div.sk-item {\n",
              "  /* draw centered vertical line to link estimators */\n",
              "  background-image: linear-gradient(var(--sklearn-color-text-on-default-background), var(--sklearn-color-text-on-default-background));\n",
              "  background-size: 2px 100%;\n",
              "  background-repeat: no-repeat;\n",
              "  background-position: center center;\n",
              "}\n",
              "\n",
              "/* Parallel-specific style estimator block */\n",
              "\n",
              "#sk-container-id-2 div.sk-parallel-item::after {\n",
              "  content: \"\";\n",
              "  width: 100%;\n",
              "  border-bottom: 2px solid var(--sklearn-color-text-on-default-background);\n",
              "  flex-grow: 1;\n",
              "}\n",
              "\n",
              "#sk-container-id-2 div.sk-parallel {\n",
              "  display: flex;\n",
              "  align-items: stretch;\n",
              "  justify-content: center;\n",
              "  background-color: var(--sklearn-color-background);\n",
              "  position: relative;\n",
              "}\n",
              "\n",
              "#sk-container-id-2 div.sk-parallel-item {\n",
              "  display: flex;\n",
              "  flex-direction: column;\n",
              "}\n",
              "\n",
              "#sk-container-id-2 div.sk-parallel-item:first-child::after {\n",
              "  align-self: flex-end;\n",
              "  width: 50%;\n",
              "}\n",
              "\n",
              "#sk-container-id-2 div.sk-parallel-item:last-child::after {\n",
              "  align-self: flex-start;\n",
              "  width: 50%;\n",
              "}\n",
              "\n",
              "#sk-container-id-2 div.sk-parallel-item:only-child::after {\n",
              "  width: 0;\n",
              "}\n",
              "\n",
              "/* Serial-specific style estimator block */\n",
              "\n",
              "#sk-container-id-2 div.sk-serial {\n",
              "  display: flex;\n",
              "  flex-direction: column;\n",
              "  align-items: center;\n",
              "  background-color: var(--sklearn-color-background);\n",
              "  padding-right: 1em;\n",
              "  padding-left: 1em;\n",
              "}\n",
              "\n",
              "\n",
              "/* Toggleable style: style used for estimator/Pipeline/ColumnTransformer box that is\n",
              "clickable and can be expanded/collapsed.\n",
              "- Pipeline and ColumnTransformer use this feature and define the default style\n",
              "- Estimators will overwrite some part of the style using the `sk-estimator` class\n",
              "*/\n",
              "\n",
              "/* Pipeline and ColumnTransformer style (default) */\n",
              "\n",
              "#sk-container-id-2 div.sk-toggleable {\n",
              "  /* Default theme specific background. It is overwritten whether we have a\n",
              "  specific estimator or a Pipeline/ColumnTransformer */\n",
              "  background-color: var(--sklearn-color-background);\n",
              "}\n",
              "\n",
              "/* Toggleable label */\n",
              "#sk-container-id-2 label.sk-toggleable__label {\n",
              "  cursor: pointer;\n",
              "  display: flex;\n",
              "  width: 100%;\n",
              "  margin-bottom: 0;\n",
              "  padding: 0.5em;\n",
              "  box-sizing: border-box;\n",
              "  text-align: center;\n",
              "  align-items: start;\n",
              "  justify-content: space-between;\n",
              "  gap: 0.5em;\n",
              "}\n",
              "\n",
              "#sk-container-id-2 label.sk-toggleable__label .caption {\n",
              "  font-size: 0.6rem;\n",
              "  font-weight: lighter;\n",
              "  color: var(--sklearn-color-text-muted);\n",
              "}\n",
              "\n",
              "#sk-container-id-2 label.sk-toggleable__label-arrow:before {\n",
              "  /* Arrow on the left of the label */\n",
              "  content: \"▸\";\n",
              "  float: left;\n",
              "  margin-right: 0.25em;\n",
              "  color: var(--sklearn-color-icon);\n",
              "}\n",
              "\n",
              "#sk-container-id-2 label.sk-toggleable__label-arrow:hover:before {\n",
              "  color: var(--sklearn-color-text);\n",
              "}\n",
              "\n",
              "/* Toggleable content - dropdown */\n",
              "\n",
              "#sk-container-id-2 div.sk-toggleable__content {\n",
              "  max-height: 0;\n",
              "  max-width: 0;\n",
              "  overflow: hidden;\n",
              "  text-align: left;\n",
              "  /* unfitted */\n",
              "  background-color: var(--sklearn-color-unfitted-level-0);\n",
              "}\n",
              "\n",
              "#sk-container-id-2 div.sk-toggleable__content.fitted {\n",
              "  /* fitted */\n",
              "  background-color: var(--sklearn-color-fitted-level-0);\n",
              "}\n",
              "\n",
              "#sk-container-id-2 div.sk-toggleable__content pre {\n",
              "  margin: 0.2em;\n",
              "  border-radius: 0.25em;\n",
              "  color: var(--sklearn-color-text);\n",
              "  /* unfitted */\n",
              "  background-color: var(--sklearn-color-unfitted-level-0);\n",
              "}\n",
              "\n",
              "#sk-container-id-2 div.sk-toggleable__content.fitted pre {\n",
              "  /* unfitted */\n",
              "  background-color: var(--sklearn-color-fitted-level-0);\n",
              "}\n",
              "\n",
              "#sk-container-id-2 input.sk-toggleable__control:checked~div.sk-toggleable__content {\n",
              "  /* Expand drop-down */\n",
              "  max-height: 200px;\n",
              "  max-width: 100%;\n",
              "  overflow: auto;\n",
              "}\n",
              "\n",
              "#sk-container-id-2 input.sk-toggleable__control:checked~label.sk-toggleable__label-arrow:before {\n",
              "  content: \"▾\";\n",
              "}\n",
              "\n",
              "/* Pipeline/ColumnTransformer-specific style */\n",
              "\n",
              "#sk-container-id-2 div.sk-label input.sk-toggleable__control:checked~label.sk-toggleable__label {\n",
              "  color: var(--sklearn-color-text);\n",
              "  background-color: var(--sklearn-color-unfitted-level-2);\n",
              "}\n",
              "\n",
              "#sk-container-id-2 div.sk-label.fitted input.sk-toggleable__control:checked~label.sk-toggleable__label {\n",
              "  background-color: var(--sklearn-color-fitted-level-2);\n",
              "}\n",
              "\n",
              "/* Estimator-specific style */\n",
              "\n",
              "/* Colorize estimator box */\n",
              "#sk-container-id-2 div.sk-estimator input.sk-toggleable__control:checked~label.sk-toggleable__label {\n",
              "  /* unfitted */\n",
              "  background-color: var(--sklearn-color-unfitted-level-2);\n",
              "}\n",
              "\n",
              "#sk-container-id-2 div.sk-estimator.fitted input.sk-toggleable__control:checked~label.sk-toggleable__label {\n",
              "  /* fitted */\n",
              "  background-color: var(--sklearn-color-fitted-level-2);\n",
              "}\n",
              "\n",
              "#sk-container-id-2 div.sk-label label.sk-toggleable__label,\n",
              "#sk-container-id-2 div.sk-label label {\n",
              "  /* The background is the default theme color */\n",
              "  color: var(--sklearn-color-text-on-default-background);\n",
              "}\n",
              "\n",
              "/* On hover, darken the color of the background */\n",
              "#sk-container-id-2 div.sk-label:hover label.sk-toggleable__label {\n",
              "  color: var(--sklearn-color-text);\n",
              "  background-color: var(--sklearn-color-unfitted-level-2);\n",
              "}\n",
              "\n",
              "/* Label box, darken color on hover, fitted */\n",
              "#sk-container-id-2 div.sk-label.fitted:hover label.sk-toggleable__label.fitted {\n",
              "  color: var(--sklearn-color-text);\n",
              "  background-color: var(--sklearn-color-fitted-level-2);\n",
              "}\n",
              "\n",
              "/* Estimator label */\n",
              "\n",
              "#sk-container-id-2 div.sk-label label {\n",
              "  font-family: monospace;\n",
              "  font-weight: bold;\n",
              "  display: inline-block;\n",
              "  line-height: 1.2em;\n",
              "}\n",
              "\n",
              "#sk-container-id-2 div.sk-label-container {\n",
              "  text-align: center;\n",
              "}\n",
              "\n",
              "/* Estimator-specific */\n",
              "#sk-container-id-2 div.sk-estimator {\n",
              "  font-family: monospace;\n",
              "  border: 1px dotted var(--sklearn-color-border-box);\n",
              "  border-radius: 0.25em;\n",
              "  box-sizing: border-box;\n",
              "  margin-bottom: 0.5em;\n",
              "  /* unfitted */\n",
              "  background-color: var(--sklearn-color-unfitted-level-0);\n",
              "}\n",
              "\n",
              "#sk-container-id-2 div.sk-estimator.fitted {\n",
              "  /* fitted */\n",
              "  background-color: var(--sklearn-color-fitted-level-0);\n",
              "}\n",
              "\n",
              "/* on hover */\n",
              "#sk-container-id-2 div.sk-estimator:hover {\n",
              "  /* unfitted */\n",
              "  background-color: var(--sklearn-color-unfitted-level-2);\n",
              "}\n",
              "\n",
              "#sk-container-id-2 div.sk-estimator.fitted:hover {\n",
              "  /* fitted */\n",
              "  background-color: var(--sklearn-color-fitted-level-2);\n",
              "}\n",
              "\n",
              "/* Specification for estimator info (e.g. \"i\" and \"?\") */\n",
              "\n",
              "/* Common style for \"i\" and \"?\" */\n",
              "\n",
              ".sk-estimator-doc-link,\n",
              "a:link.sk-estimator-doc-link,\n",
              "a:visited.sk-estimator-doc-link {\n",
              "  float: right;\n",
              "  font-size: smaller;\n",
              "  line-height: 1em;\n",
              "  font-family: monospace;\n",
              "  background-color: var(--sklearn-color-background);\n",
              "  border-radius: 1em;\n",
              "  height: 1em;\n",
              "  width: 1em;\n",
              "  text-decoration: none !important;\n",
              "  margin-left: 0.5em;\n",
              "  text-align: center;\n",
              "  /* unfitted */\n",
              "  border: var(--sklearn-color-unfitted-level-1) 1pt solid;\n",
              "  color: var(--sklearn-color-unfitted-level-1);\n",
              "}\n",
              "\n",
              ".sk-estimator-doc-link.fitted,\n",
              "a:link.sk-estimator-doc-link.fitted,\n",
              "a:visited.sk-estimator-doc-link.fitted {\n",
              "  /* fitted */\n",
              "  border: var(--sklearn-color-fitted-level-1) 1pt solid;\n",
              "  color: var(--sklearn-color-fitted-level-1);\n",
              "}\n",
              "\n",
              "/* On hover */\n",
              "div.sk-estimator:hover .sk-estimator-doc-link:hover,\n",
              ".sk-estimator-doc-link:hover,\n",
              "div.sk-label-container:hover .sk-estimator-doc-link:hover,\n",
              ".sk-estimator-doc-link:hover {\n",
              "  /* unfitted */\n",
              "  background-color: var(--sklearn-color-unfitted-level-3);\n",
              "  color: var(--sklearn-color-background);\n",
              "  text-decoration: none;\n",
              "}\n",
              "\n",
              "div.sk-estimator.fitted:hover .sk-estimator-doc-link.fitted:hover,\n",
              ".sk-estimator-doc-link.fitted:hover,\n",
              "div.sk-label-container:hover .sk-estimator-doc-link.fitted:hover,\n",
              ".sk-estimator-doc-link.fitted:hover {\n",
              "  /* fitted */\n",
              "  background-color: var(--sklearn-color-fitted-level-3);\n",
              "  color: var(--sklearn-color-background);\n",
              "  text-decoration: none;\n",
              "}\n",
              "\n",
              "/* Span, style for the box shown on hovering the info icon */\n",
              ".sk-estimator-doc-link span {\n",
              "  display: none;\n",
              "  z-index: 9999;\n",
              "  position: relative;\n",
              "  font-weight: normal;\n",
              "  right: .2ex;\n",
              "  padding: .5ex;\n",
              "  margin: .5ex;\n",
              "  width: min-content;\n",
              "  min-width: 20ex;\n",
              "  max-width: 50ex;\n",
              "  color: var(--sklearn-color-text);\n",
              "  box-shadow: 2pt 2pt 4pt #999;\n",
              "  /* unfitted */\n",
              "  background: var(--sklearn-color-unfitted-level-0);\n",
              "  border: .5pt solid var(--sklearn-color-unfitted-level-3);\n",
              "}\n",
              "\n",
              ".sk-estimator-doc-link.fitted span {\n",
              "  /* fitted */\n",
              "  background: var(--sklearn-color-fitted-level-0);\n",
              "  border: var(--sklearn-color-fitted-level-3);\n",
              "}\n",
              "\n",
              ".sk-estimator-doc-link:hover span {\n",
              "  display: block;\n",
              "}\n",
              "\n",
              "/* \"?\"-specific style due to the `<a>` HTML tag */\n",
              "\n",
              "#sk-container-id-2 a.estimator_doc_link {\n",
              "  float: right;\n",
              "  font-size: 1rem;\n",
              "  line-height: 1em;\n",
              "  font-family: monospace;\n",
              "  background-color: var(--sklearn-color-background);\n",
              "  border-radius: 1rem;\n",
              "  height: 1rem;\n",
              "  width: 1rem;\n",
              "  text-decoration: none;\n",
              "  /* unfitted */\n",
              "  color: var(--sklearn-color-unfitted-level-1);\n",
              "  border: var(--sklearn-color-unfitted-level-1) 1pt solid;\n",
              "}\n",
              "\n",
              "#sk-container-id-2 a.estimator_doc_link.fitted {\n",
              "  /* fitted */\n",
              "  border: var(--sklearn-color-fitted-level-1) 1pt solid;\n",
              "  color: var(--sklearn-color-fitted-level-1);\n",
              "}\n",
              "\n",
              "/* On hover */\n",
              "#sk-container-id-2 a.estimator_doc_link:hover {\n",
              "  /* unfitted */\n",
              "  background-color: var(--sklearn-color-unfitted-level-3);\n",
              "  color: var(--sklearn-color-background);\n",
              "  text-decoration: none;\n",
              "}\n",
              "\n",
              "#sk-container-id-2 a.estimator_doc_link.fitted:hover {\n",
              "  /* fitted */\n",
              "  background-color: var(--sklearn-color-fitted-level-3);\n",
              "}\n",
              "</style><div id=\"sk-container-id-2\" class=\"sk-top-container\"><div class=\"sk-text-repr-fallback\"><pre>LinearRegression()</pre><b>In a Jupyter environment, please rerun this cell to show the HTML representation or trust the notebook. <br />On GitHub, the HTML representation is unable to render, please try loading this page with nbviewer.org.</b></div><div class=\"sk-container\" hidden><div class=\"sk-item\"><div class=\"sk-estimator fitted sk-toggleable\"><input class=\"sk-toggleable__control sk-hidden--visually\" id=\"sk-estimator-id-2\" type=\"checkbox\" checked><label for=\"sk-estimator-id-2\" class=\"sk-toggleable__label fitted sk-toggleable__label-arrow\"><div><div>LinearRegression</div></div><div><a class=\"sk-estimator-doc-link fitted\" rel=\"noreferrer\" target=\"_blank\" href=\"https://scikit-learn.org/1.6/modules/generated/sklearn.linear_model.LinearRegression.html\">?<span>Documentation for LinearRegression</span></a><span class=\"sk-estimator-doc-link fitted\">i<span>Fitted</span></span></div></label><div class=\"sk-toggleable__content fitted\"><pre>LinearRegression()</pre></div> </div></div></div></div>"
            ]
          },
          "metadata": {},
          "execution_count": 9
        }
      ]
    },
    {
      "cell_type": "markdown",
      "source": [
        "# Make **Predictions**"
      ],
      "metadata": {
        "id": "0DCFdIMHDlzT"
      }
    },
    {
      "cell_type": "markdown",
      "source": [
        "The trained model predicts values for X based on the learned relationship."
      ],
      "metadata": {
        "id": "c7xErpiADwXr"
      }
    },
    {
      "cell_type": "code",
      "source": [
        "Y_pred = model.predict(X)  # Predict Y values for given X\n",
        "Y_pred"
      ],
      "metadata": {
        "colab": {
          "base_uri": "https://localhost:8080/"
        },
        "id": "J1IwqNsoDoDU",
        "outputId": "f818ce56-66a6-4b06-9c7c-12512f1dbf0b"
      },
      "execution_count": null,
      "outputs": [
        {
          "output_type": "execute_result",
          "data": {
            "text/plain": [
              "array([2.8, 3.4, 4. , 4.6, 5.2])"
            ]
          },
          "metadata": {},
          "execution_count": 12
        }
      ]
    },
    {
      "cell_type": "markdown",
      "source": [
        "# Visualizing"
      ],
      "metadata": {
        "id": "ADOsZ-SsEFpn"
      }
    },
    {
      "cell_type": "markdown",
      "source": [
        "Scatter plot (plt.scatter()) shows the actual data points.\n",
        "Line plot (plt.plot()) shows the predicted regression line."
      ],
      "metadata": {
        "id": "Zm5lTZDRETKx"
      }
    },
    {
      "cell_type": "code",
      "source": [
        "plt.scatter(X, Y, color='green', label=\"Actual data\")  # Plot original data points\n",
        "plt.plot(X, Y_pred, color='red', label=\"Regression Line\")  # Plot regression line\n",
        "plt.xlabel(\"X\")  # Label for X-axis\n",
        "plt.ylabel(\"Y\")  # Label for Y-axis\n",
        "plt.legend()  # Show labels\n",
        "plt.show()  # Display the plot\n"
      ],
      "metadata": {
        "colab": {
          "base_uri": "https://localhost:8080/",
          "height": 449
        },
        "id": "QnqJ-kMtD0wK",
        "outputId": "913fecc9-d5a1-4e51-ce48-6688db5c444c"
      },
      "execution_count": null,
      "outputs": [
        {
          "output_type": "display_data",
          "data": {
            "text/plain": [
              "<Figure size 640x480 with 1 Axes>"
            ],
            "image/png": "[encoded data removed]"
          },
          "metadata": {}
        }
      ]
    },
    {
      "cell_type": "markdown",
      "source": [
        "## Print Model Coefficients\n",
        "\n",
        "Slope (model.coef_): The coefficient of X, indicating how much Y changes when X increases.\n",
        "\n",
        "Intercept (model.intercept_): The value of Y when X = 0."
      ],
      "metadata": {
        "id": "7dI25LovEVUY"
      }
    },
    {
      "cell_type": "code",
      "source": [
        "print(\"Slope:\", model.coef_[0])  # Prints the slope (b1)\n",
        "print(\"Intercept:\", model.intercept_)  # Prints the intercept (b0)\n"
      ],
      "metadata": {
        "colab": {
          "base_uri": "https://localhost:8080/"
        },
        "id": "rF1yn2ifEtT9",
        "outputId": "a2bf4c4f-a840-4098-c23e-399336eb8665"
      },
      "execution_count": null,
      "outputs": [
        {
          "output_type": "stream",
          "name": "stdout",
          "text": [
            "Slope: 0.6\n",
            "Intercept: 2.2\n"
          ]
        }
      ]
    },
    {
      "cell_type": "markdown",
      "source": [
        "# PREDICT WITH INPUT VALUE"
      ],
      "metadata": {
        "id": "hf8fD7vFFTzZ"
      }
    },
    {
      "cell_type": "code",
      "source": [
        "x_input = float(input(\"Enter a value for X: \"))  # Take direct input\n",
        "\n",
        "# Make prediction without reshaping\n",
        "y_pred = model.predict([[x_input]])[0]  # Predict directly\n",
        "\n",
        "# Output prediction\n",
        "print(f\"Predicted Y value for X={x_input}: {y_pred:.2f}\")\n",
        "\n",
        "# Visualization\n",
        "plt.scatter(X, Y, color='blue', label=\"Actual Data\")  # Original data\n",
        "plt.plot(X, model.predict(X), color='red', label=\"Regression Line\")  # Regression line\n",
        "plt.scatter(x_input, y_pred, color='green', marker='o', s=100, label=\"Predicted Point\")  # User input point\n",
        "plt.xlabel(\"X\")\n",
        "plt.ylabel(\"Y\")\n",
        "plt.legend()\n",
        "plt.show()"
      ],
      "metadata": {
        "colab": {
          "base_uri": "https://localhost:8080/",
          "height": 484
        },
        "id": "FiwNgT4OFXDY",
        "outputId": "3a323b71-e709-4ae3-9f57-1e565f2d0ce0"
      },
      "execution_count": null,
      "outputs": [
        {
          "output_type": "stream",
          "name": "stdout",
          "text": [
            "Enter a value for X: 3\n",
            "Predicted Y value for X=3.0: 4.00\n"
          ]
        },
        {
          "output_type": "display_data",
          "data": {
            "text/plain": [
              "<Figure size 640x480 with 1 Axes>"
            ],
            "image/png": "[encoded data removed]"
          },
          "metadata": {}
        }
      ]
    }
  ]
}